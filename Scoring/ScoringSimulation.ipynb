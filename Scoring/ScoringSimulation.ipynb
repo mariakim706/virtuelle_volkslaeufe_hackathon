{
 "cells": [
  {
   "cell_type": "code",
   "execution_count": 1,
   "metadata": {},
   "outputs": [],
   "source": [
    "test_list = [\n",
    "    [10.0, 3600],\n",
    "    [10.0, 3800],\n",
    "    [10.0, 3500],\n",
    "    [7.5,  2900],\n",
    "    [7.5,  2800],\n",
    "    [10.0, 3400],\n",
    "    [10.0, 3600],\n",
    "    [7.5, 3000]\n",
    "]\n",
    "\n",
    "\n",
    "test_list2 = [\n",
    "    [1.0, 240],\n",
    "    [1.0, 230],\n",
    "    [5.0, 1800],\n",
    "    [5.0, 1850],\n",
    "    [1.0, 245]\n",
    "]"
   ]
  },
  {
   "cell_type": "code",
   "execution_count": 2,
   "metadata": {},
   "outputs": [],
   "source": [
    "def mean_of_last_five(list_of_runs, i, distance):    \n",
    "    sum = 0.\n",
    "    \n",
    "    n=0\n",
    "    for i in range(i, -1, -1):\n",
    "        if list_of_runs[i][0] == distance:\n",
    "            sum += list_of_runs[i][1]\n",
    "            n+=1\n",
    "        \n",
    "        if n == 5:\n",
    "            break\n",
    "    \n",
    "    if n == 0:\n",
    "        return 0.\n",
    "    else:\n",
    "        return sum / n"
   ]
  },
  {
   "cell_type": "code",
   "execution_count": 12,
   "metadata": {},
   "outputs": [],
   "source": [
    "# list of runs [ [time, dist], ... ]\n",
    "\n",
    "a = 1\n",
    "b = 1\n",
    "c = 1\n",
    "\n",
    "def eval_scoring(list_of_runs):\n",
    "    scoring = 0\n",
    "    \n",
    "    score_evolution = []\n",
    "    #score_evolution.append( scoring )\n",
    "    \n",
    "    for i in range(len(list_of_runs)):\n",
    "        run = list_of_runs[i]\n",
    "        distance = run[0]\n",
    "        time = run[1]\n",
    "        mean_time = mean_of_last_five(list_of_runs, i, distance)\n",
    "        print(mean_time)\n",
    "        \n",
    "        if mean_time - time == 0\n",
    "            delta_score = distance * 5\n",
    "        else:\n",
    "            delta_score = a * (mean_time - time) / distance\n",
    "        \n",
    "        scoring += delta_score\n",
    "        scoring = max(0, scoring)\n",
    "        score_evolution.append( int(scoring) )\n",
    "        \n",
    "    print(score_evolution)"
   ]
  },
  {
   "cell_type": "code",
   "execution_count": 13,
   "metadata": {},
   "outputs": [
    {
     "name": "stdout",
     "output_type": "stream",
     "text": [
      "3600.0\n",
      "3700.0\n",
      "3633.3333333333335\n",
      "2900.0\n",
      "2850.0\n",
      "3575.0\n",
      "3580.0\n",
      "2900.0\n",
      "[0, 0, 13, 13, 20, 37, 35, 22]\n"
     ]
    }
   ],
   "source": [
    "eval_scoring(test_list)"
   ]
  },
  {
   "cell_type": "code",
   "execution_count": 5,
   "metadata": {
    "scrolled": true
   },
   "outputs": [
    {
     "name": "stdout",
     "output_type": "stream",
     "text": [
      "240.0\n",
      "235.0\n",
      "1800.0\n",
      "1825.0\n",
      "238.33333333333334\n",
      "[0, 0, 5, 5, 0, -6]\n"
     ]
    }
   ],
   "source": [
    "eval_scoring(test_list2)"
   ]
  },
  {
   "cell_type": "code",
   "execution_count": null,
   "metadata": {},
   "outputs": [],
   "source": []
  }
 ],
 "metadata": {
  "kernelspec": {
   "display_name": "Python 3",
   "language": "python",
   "name": "python3"
  },
  "language_info": {
   "codemirror_mode": {
    "name": "ipython",
    "version": 3
   },
   "file_extension": ".py",
   "mimetype": "text/x-python",
   "name": "python",
   "nbconvert_exporter": "python",
   "pygments_lexer": "ipython3",
   "version": "3.7.5"
  }
 },
 "nbformat": 4,
 "nbformat_minor": 4
}
